{
 "cells": [
  {
   "cell_type": "markdown",
   "metadata": {},
   "source": [
    "# "
   ]
  },
  {
   "cell_type": "markdown",
   "metadata": {},
   "source": [
    "# Torch Finetuned Models\n",
    "In this notebook, several PyTorch models can be initialized as pretrained models. We can then finetune them based on our own datasets"
   ]
  },
  {
   "cell_type": "markdown",
   "metadata": {},
   "source": [
    "## Imports"
   ]
  },
  {
   "cell_type": "code",
   "execution_count": 1,
   "metadata": {},
   "outputs": [],
   "source": [
    "# make any other necessary imports here\n",
    "import torch\n",
    "import torch.nn as nn\n",
    "import torch.optim as optim\n",
    "import numpy as np\n",
    "import torchvision\n",
    "import matplotlib.pyplot as plt\n",
    "import time\n",
    "import os\n",
    "import copy\n",
    "import tqdm"
   ]
  },
  {
   "cell_type": "markdown",
   "metadata": {},
   "source": [
    "## Print PyTorch versions and Device"
   ]
  },
  {
   "cell_type": "code",
   "execution_count": 2,
   "metadata": {},
   "outputs": [
    {
     "name": "stdout",
     "output_type": "stream",
     "text": [
      "PyTorch Version:  1.12.0\n",
      "Torchvision Version:  0.13.0\n",
      "Device: cpu\n"
     ]
    }
   ],
   "source": [
    "device = torch.device(\"cuda:0\" if torch.cuda.is_available() else \"cpu\")\n",
    "print(\"PyTorch Version: \",torch.__version__)\n",
    "print(\"Torchvision Version: \",torchvision.__version__)\n",
    "print(\"Device:\", device)"
   ]
  },
  {
   "cell_type": "markdown",
   "metadata": {},
   "source": [
    "## Load your model here"
   ]
  },
  {
   "cell_type": "code",
   "execution_count": null,
   "metadata": {},
   "outputs": [],
   "source": [
    "weights_MODELS ={\n",
    "    'resnet18': torchvision.models.resnet18(weights=True),\n",
    "    'alexnet': torchvision.models.alexnet(weights=True),\n",
    "    'squeezenet': torchvision.models.squeezenet1_0(weights=True),\n",
    "    'vgg16': torchvision.models.vgg16(weights=True),\n",
    "    'densenet': torchvision.models.densenet161(weights=True),\n",
    "    'inception': torchvision.models.inception_v3(weights=True),\n",
    "    'googlenet': torchvision.models.googlenet(weights=True),\n",
    "    'shufflenet': torchvision.models.shufflenet_v2_x1_0(weights=True),\n",
    "    'mobilenet': torchvision.models.mobilenet_v2(weights=True),\n",
    "    'resnext50_32x4d': torchvision.models.resnext50_32x4d(weights=True),\n",
    "    'wide_resnet50_2': torchvision.models.wide_resnet50_2(weights=True),\n",
    "    'mnasnet': torchvision.models.mnasnet1_0(weights=True),\n",
    "}\n",
    "\n",
    "model = weights_MODELS.MODELS[\"inception\"]"
   ]
  },
  {
   "cell_type": "code",
   "execution_count": null,
   "metadata": {},
   "outputs": [],
   "source": []
  }
 ],
 "metadata": {
  "kernelspec": {
   "display_name": "Python 3.10.4 ('DL')",
   "language": "python",
   "name": "python3"
  },
  "language_info": {
   "codemirror_mode": {
    "name": "ipython",
    "version": 3
   },
   "file_extension": ".py",
   "mimetype": "text/x-python",
   "name": "python",
   "nbconvert_exporter": "python",
   "pygments_lexer": "ipython3",
   "version": "3.10.4"
  },
  "orig_nbformat": 4,
  "vscode": {
   "interpreter": {
    "hash": "07e88dc90a9f4f1cd1ec1aca24c1b557f73b2939a9d21c8755fc22424a98e96b"
   }
  }
 },
 "nbformat": 4,
 "nbformat_minor": 2
}
