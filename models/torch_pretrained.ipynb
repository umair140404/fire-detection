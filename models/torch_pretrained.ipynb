{
 "cells": [
  {
   "cell_type": "code",
   "execution_count": 1,
   "metadata": {},
   "outputs": [],
   "source": [
    "# make any other necessary imports here\n",
    "from __future__ import print_function\n",
    "from __future__ import division\n",
    "import torch\n",
    "import torch.nn as nn\n",
    "import torch.optim as optim\n",
    "import numpy as np\n",
    "import torchvision\n",
    "from torchvision import datasets, models, transforms\n",
    "import matplotlib.pyplot as plt\n",
    "import time\n",
    "import os\n",
    "import copy\n",
    "import tqdm\n",
    "device = torch.device(\"cuda:0\" if torch.cuda.is_available() else \"cpu\")"
   ]
  },
  {
   "cell_type": "code",
   "execution_count": 2,
   "metadata": {},
   "outputs": [
    {
     "name": "stdout",
     "output_type": "stream",
     "text": [
      "PyTorch Version:  1.11.0+cu113\n",
      "Torchvision Version:  0.12.0+cu113\n",
      "Device: cuda:0\n"
     ]
    }
   ],
   "source": [
    "print(\"PyTorch Version: \",torch.__version__)\n",
    "print(\"Torchvision Version: \",torchvision.__version__)\n",
    "print(\"Device:\", device)"
   ]
  },
  {
   "cell_type": "code",
   "execution_count": null,
   "metadata": {},
   "outputs": [],
   "source": [
    "PRETRAINED_MODELS ={\n",
    "    'resnet18' :models.resnet18(pretrained=True),\n",
    "    'alexnet' :models.alexnet(pretrained=True),\n",
    "    'squeezenet' :models.squeezenet1_0(pretrained=True),\n",
    "    'vgg16' :models.vgg16(pretrained=True),\n",
    "    'densenet' :models.densenet161(pretrained=True),\n",
    "    'inception' :models.inception_v3(pretrained=True),\n",
    "    'googlenet' :models.googlenet(pretrained=True),\n",
    "    'shufflenet' :models.shufflenet_v2_x1_0(pretrained=True),\n",
    "    'mobilenet' :models.mobilenet_v2(pretrained=True),\n",
    "    'resnext50_32x4d' :models.resnext50_32x4d(pretrained=True),\n",
    "    'wide_resnet50_2' :models.wide_resnet50_2(pretrained=True),\n",
    "    'mnasnet': models.mnasnet1_0(pretrained=True),\n",
    "}"
   ]
  },
  {
   "cell_type": "code",
   "execution_count": null,
   "metadata": {},
   "outputs": [],
   "source": [
    "inception_net = PRETRAINED_MODELS[\"inception\"]"
   ]
  }
 ],
 "metadata": {
  "kernelspec": {
   "display_name": "Python 3.8.13 ('DL')",
   "language": "python",
   "name": "python3"
  },
  "language_info": {
   "codemirror_mode": {
    "name": "ipython",
    "version": 3
   },
   "file_extension": ".py",
   "mimetype": "text/x-python",
   "name": "python",
   "nbconvert_exporter": "python",
   "pygments_lexer": "ipython3",
   "version": "3.8.13"
  },
  "orig_nbformat": 4,
  "vscode": {
   "interpreter": {
    "hash": "d610c201457c5e52daae9a51368c34c2032b2a44369978e02d46e83d53bdf74b"
   }
  }
 },
 "nbformat": 4,
 "nbformat_minor": 2
}
